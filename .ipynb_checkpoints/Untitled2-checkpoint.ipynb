{
 "cells": [
  {
   "cell_type": "code",
   "execution_count": 1,
   "metadata": {},
   "outputs": [],
   "source": [
    "%matplotlib inline"
   ]
  },
  {
   "cell_type": "code",
   "execution_count": 2,
   "metadata": {},
   "outputs": [],
   "source": [
    "from matplotlib import pyplot as plt\n",
    "import numpy as np"
   ]
  },
  {
   "cell_type": "code",
   "execution_count": 39,
   "metadata": {},
   "outputs": [],
   "source": [
    "data = [\n",
    "    [3,     1.5,    1],\n",
    "    [2,     1,      0],\n",
    "    [4,     1.5,    1],\n",
    "    [3,     1,      0],\n",
    "    [3.5,  .5,      1],\n",
    "    [2,    .5,      0],\n",
    "    [5.5,   1,     1],\n",
    "    [1,      1,     0]\n",
    "]\n",
    "mystrey_flower = [4.1,1]"
   ]
  },
  {
   "cell_type": "code",
   "execution_count": 40,
   "metadata": {},
   "outputs": [],
   "source": []
  },
  {
   "cell_type": "code",
   "execution_count": 41,
   "metadata": {},
   "outputs": [],
   "source": [
    "def sigmod(x):\n",
    "    return 1/(1+np.exp(-x))\n",
    "def sigmod_p(x):\n",
    "    return sigmod(x)*(1-sigmod(x))\n"
   ]
  },
  {
   "cell_type": "code",
   "execution_count": 42,
   "metadata": {},
   "outputs": [],
   "source": [
    "T = np.linspace(-5,5,10)\n",
    "Y = sigmod(T)\n",
    "Z = sigmod_p(T)"
   ]
  },
  {
   "cell_type": "code",
   "execution_count": 44,
   "metadata": {},
   "outputs": [
    {
     "data": {
      "image/png": "[encoded data removed]",
      "text/plain": [
       "<Figure size 432x288 with 1 Axes>"
      ]
     },
     "metadata": {
      "needs_background": "light"
     },
     "output_type": "display_data"
    }
   ],
   "source": [
    "#scatter data\n",
    "plt.axis([0,6,0,6])\n",
    "plt.grid()\n",
    "for i in range(len(data)):\n",
    "    point = data[i]\n",
    "    color = \"r\"\n",
    "    if point[2]==0:\n",
    "        color = 'b'\n",
    "    plt.scatter(point[0],point[1],c=color)"
   ]
  },
  {
   "cell_type": "code",
   "execution_count": 69,
   "metadata": {},
   "outputs": [
    {
     "data": {
      "text/plain": [
       "[<matplotlib.lines.Line2D at 0x2d1bb2015b0>]"
      ]
     },
     "execution_count": 69,
     "metadata": {},
     "output_type": "execute_result"
    },
    {
     "data": {
      "image/png": "[encoded data removed]",
      "text/plain": [
       "<Figure size 432x288 with 1 Axes>"
      ]
     },
     "metadata": {
      "needs_background": "light"
     },
     "output_type": "display_data"
    }
   ],
   "source": [
    "\n",
    "# network\n",
    "#        o    flower type\n",
    "#      /  \\     w1,  w2,     b\n",
    "#     o    o length  width   q1\n",
    "w1 = np.random.randn()\n",
    "w2 = np.random.randn()\n",
    "b = np.random.randn()\n",
    "\n",
    "\n",
    "# training loop\n",
    " \n",
    "learning_rate = 0.5\n",
    "costs = [] \n",
    "\n",
    "for i in range(50000):\n",
    "    ri = np.random.randint(len(data))  # random index from the data\n",
    "   # point = data[ri]\n",
    "    \n",
    "  \n",
    "    target = point[2]                    # target value\n",
    "    \n",
    "    \n",
    "   \n",
    "    dcost_dpred = 2* (pred - target)     # dcost/dpred\n",
    "    dpred_dz    =  sigmod_p(z)           # dpred/dz\n",
    "    \n",
    "    dz_dw1 = point[0]                    #dz/dw1\n",
    "    dz_dw2 = point[2]                    #dz/dw2\n",
    "    dz_db  = 1                           #dz/db\n",
    "    \n",
    "    dcost_dz =  dcost_dpred *  dpred_dz\n",
    "    \n",
    "    dcost_dw1 = dcost_dz * dz_dw1\n",
    "    dcost_dw2 = dcost_dz * dz_dw2\n",
    "    dcost_db  = dcost_dz * dz_db\n",
    "    \n",
    "    w1 = w1 - learning_rate * dcost_dw1   # Gradient Descent\n",
    "    w2 = w2 - learning_rate * dcost_dw2\n",
    "    b =  b - learning_rate * dcost_db\n",
    "    if i % 100 :\n",
    "        cost_sum = 0\n",
    "        for j in range(len(data)):\n",
    "            point = data[ri]\n",
    "            z = point[0]*w1 + point[1]*w2 + b    #  hypothesis\n",
    "            pred = sigmod(z)                     # pred value\n",
    "            cost = np.square(pred - target)      # cost function\n",
    "            cost_sum += cost\n",
    "        costs.append(cost_sum/len(data))\n",
    "        \n",
    "            \n",
    "    \n",
    "plt.plot(costs)\n",
    "     "
   ]
  },
  {
   "cell_type": "code",
   "execution_count": null,
   "metadata": {},
   "outputs": [],
   "source": []
  },
  {
   "cell_type": "code",
   "execution_count": null,
   "metadata": {},
   "outputs": [],
   "source": []
  }
 ],
 "metadata": {
  "kernelspec": {
   "display_name": "Python 3",
   "language": "python",
   "name": "python3"
  },
  "language_info": {
   "codemirror_mode": {
    "name": "ipython",
    "version": 3
   },
   "file_extension": ".py",
   "mimetype": "text/x-python",
   "name": "python",
   "nbconvert_exporter": "python",
   "pygments_lexer": "ipython3",
   "version": "3.8.3"
  }
 },
 "nbformat": 4,
 "nbformat_minor": 4
}
